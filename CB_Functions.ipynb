{
 "cells": [
  {
   "cell_type": "markdown",
   "metadata": {},
   "source": [
    "<H4>Import Modules<H4>"
   ]
  },
  {
   "cell_type": "code",
   "execution_count": 2,
   "metadata": {},
   "outputs": [],
   "source": [
    "import cbpro\n",
    "import pandas as pd\n",
    "import matplotlib.pyplot as plt\n",
    "import time\n",
    "import datetime as dt\n",
    "%matplotlib inline"
   ]
  },
  {
   "cell_type": "markdown",
   "metadata": {},
   "source": [
    "<h4>Declaring Variables<h4>"
   ]
  },
  {
   "cell_type": "code",
   "execution_count": 3,
   "metadata": {},
   "outputs": [],
   "source": [
    "public_client = cbpro.PublicClient()\n",
    "\n",
    "#Time variables\n",
    "begin = 1497447592\n",
    "\n",
    "#Coinbase time granularity variables\n",
    "m1 =  60\n",
    "m5 =  m1*5\n",
    "m15 = m1*15\n",
    "h1 =  m1*60\n",
    "h6 =  h1*6\n",
    "d1 =  h1*24\n",
    "\n",
    "#Unix epoch conversion variables\n",
    "w1 =  d1*7\n",
    "w4 =  w1*4\n",
    "w13 = w1*13\n",
    "w26 = w1*26\n",
    "y1 =  d1*365"
   ]
  },
  {
   "cell_type": "markdown",
   "metadata": {},
   "source": [
    "<h4>Declaring Functions<h4>"
   ]
  },
  {
   "cell_type": "code",
   "execution_count": 8,
   "metadata": {},
   "outputs": [],
   "source": [
    "def single_ohlc(pair, s, e, gran):\n",
    "    df = pd.DataFrame(data=public_client.get_product_historic_rates(pair, start=s, end=e, granularity=gran),columns='Date Open High Low Close Volume'.split())\n",
    "    df.set_index(pd.to_datetime(df['Date'], unit='s'),inplace=True)\n",
    "    return df\n",
    "\n",
    "def pltOpen(pair, start, end, gran):\n",
    "    data = single_ohlc(pair, start, end, gran)\n",
    "    data['Open'].plot(figsize=(16,6))\n",
    "    \n",
    "def start_calc(time_back, end):\n",
    "    start_time = end - time_back\n",
    "    return round(start_time)\n",
    "\n",
    "#Convert time to iso format\n",
    "def cti(time):\n",
    "    return (dt.datetime.utcfromtimestamp(time).isoformat())\n",
    "\n",
    "#Define the start time of the sequence\n",
    "def st (gran, end):\n",
    "    return cti(end-(gran*300))\n",
    "\n",
    "#Define the end time of the sequence\n",
    "def et (start, gran):\n",
    "    return cti(start+(gran*300))\n",
    "\n",
    "#Returns current Unix epoch time\n",
    "def tn():\n",
    "    return (round(time.time()))\n",
    "\n",
    "def gather_data(pair, startpoint, endpoint, gran):\n",
    "    if df == null:\n",
    "        df = pd.dataframe(columns='Date Open High Low Close Volume'.split())\n",
    "    elif endpoint - startpoint < 300:\n",
    "        df.append(single_ohlc(pair, startpoint, endpoint, gran))\n",
    "        return df\n",
    "    else:\n",
    "        df.append(single_ohlc(pair, starpoint, (startpoint+(300*gran)), gran))\n",
    "        startpoint = startpoint + (gran*300)\n",
    "        gather_data(pair, startpoint, endpoint, gran)"
   ]
  },
  {
   "cell_type": "code",
   "execution_count": 9,
   "metadata": {},
   "outputs": [
    {
     "ename": "UnboundLocalError",
     "evalue": "local variable 'df' referenced before assignment",
     "output_type": "error",
     "traceback": [
      "\u001b[0;31m---------------------------------------------------------------------------\u001b[0m",
      "\u001b[0;31mUnboundLocalError\u001b[0m                         Traceback (most recent call last)",
      "\u001b[0;32m<ipython-input-9-034ad7971b70>\u001b[0m in \u001b[0;36m<module>\u001b[0;34m\u001b[0m\n\u001b[0;32m----> 1\u001b[0;31m \u001b[0mbtc\u001b[0m \u001b[0;34m=\u001b[0m \u001b[0mgather_data\u001b[0m\u001b[0;34m(\u001b[0m\u001b[0;34m'ETH-BTC'\u001b[0m\u001b[0;34m,\u001b[0m \u001b[0;34m(\u001b[0m\u001b[0mtn\u001b[0m\u001b[0;34m(\u001b[0m\u001b[0;34m)\u001b[0m\u001b[0;34m-\u001b[0m\u001b[0;34m(\u001b[0m\u001b[0;36m600\u001b[0m\u001b[0;34m*\u001b[0m\u001b[0md1\u001b[0m\u001b[0;34m)\u001b[0m\u001b[0;34m)\u001b[0m\u001b[0;34m,\u001b[0m\u001b[0mtn\u001b[0m\u001b[0;34m(\u001b[0m\u001b[0;34m)\u001b[0m\u001b[0;34m,\u001b[0m \u001b[0md1\u001b[0m\u001b[0;34m)\u001b[0m\u001b[0;34m\u001b[0m\u001b[0;34m\u001b[0m\u001b[0m\n\u001b[0m",
      "\u001b[0;32m<ipython-input-8-7d8468352ee3>\u001b[0m in \u001b[0;36mgather_data\u001b[0;34m(pair, startpoint, endpoint, gran)\u001b[0m\n\u001b[1;32m     29\u001b[0m \u001b[0;34m\u001b[0m\u001b[0m\n\u001b[1;32m     30\u001b[0m \u001b[0;32mdef\u001b[0m \u001b[0mgather_data\u001b[0m\u001b[0;34m(\u001b[0m\u001b[0mpair\u001b[0m\u001b[0;34m,\u001b[0m \u001b[0mstartpoint\u001b[0m\u001b[0;34m,\u001b[0m \u001b[0mendpoint\u001b[0m\u001b[0;34m,\u001b[0m \u001b[0mgran\u001b[0m\u001b[0;34m)\u001b[0m\u001b[0;34m:\u001b[0m\u001b[0;34m\u001b[0m\u001b[0;34m\u001b[0m\u001b[0m\n\u001b[0;32m---> 31\u001b[0;31m     \u001b[0;32mif\u001b[0m \u001b[0mdf\u001b[0m \u001b[0;34m==\u001b[0m \u001b[0mnull\u001b[0m\u001b[0;34m:\u001b[0m\u001b[0;34m\u001b[0m\u001b[0;34m\u001b[0m\u001b[0m\n\u001b[0m\u001b[1;32m     32\u001b[0m         \u001b[0mdf\u001b[0m \u001b[0;34m=\u001b[0m \u001b[0mpd\u001b[0m\u001b[0;34m.\u001b[0m\u001b[0mdataframe\u001b[0m\u001b[0;34m(\u001b[0m\u001b[0mcolumns\u001b[0m\u001b[0;34m=\u001b[0m\u001b[0;34m'Date Open High Low Close Volume'\u001b[0m\u001b[0;34m.\u001b[0m\u001b[0msplit\u001b[0m\u001b[0;34m(\u001b[0m\u001b[0;34m)\u001b[0m\u001b[0;34m)\u001b[0m\u001b[0;34m\u001b[0m\u001b[0;34m\u001b[0m\u001b[0m\n\u001b[1;32m     33\u001b[0m     \u001b[0;32melif\u001b[0m \u001b[0mendpoint\u001b[0m \u001b[0;34m-\u001b[0m \u001b[0mstartpoint\u001b[0m \u001b[0;34m<\u001b[0m \u001b[0;36m300\u001b[0m\u001b[0;34m:\u001b[0m\u001b[0;34m\u001b[0m\u001b[0;34m\u001b[0m\u001b[0m\n",
      "\u001b[0;31mUnboundLocalError\u001b[0m: local variable 'df' referenced before assignment"
     ]
    }
   ],
   "source": [
    "btc = gather_data('ETH-BTC', (tn()-(600*d1)),tn(), d1)"
   ]
  },
  {
   "cell_type": "code",
   "execution_count": 58,
   "metadata": {},
   "outputs": [
    {
     "data": {
      "text/plain": [
       "1576373850"
      ]
     },
     "execution_count": 58,
     "metadata": {},
     "output_type": "execute_result"
    }
   ],
   "source": [
    "tn()"
   ]
  },
  {
   "cell_type": "code",
   "execution_count": null,
   "metadata": {},
   "outputs": [],
   "source": []
  }
 ],
 "metadata": {
  "kernelspec": {
   "display_name": "Python 3",
   "language": "python",
   "name": "python3"
  },
  "language_info": {
   "codemirror_mode": {
    "name": "ipython",
    "version": 3
   },
   "file_extension": ".py",
   "mimetype": "text/x-python",
   "name": "python",
   "nbconvert_exporter": "python",
   "pygments_lexer": "ipython3",
   "version": "3.6.9"
  }
 },
 "nbformat": 4,
 "nbformat_minor": 4
}
